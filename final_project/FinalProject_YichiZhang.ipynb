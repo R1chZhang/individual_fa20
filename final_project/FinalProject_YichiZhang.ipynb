{
 "cells": [
  {
   "cell_type": "markdown",
   "metadata": {},
   "source": [
    "# COGS 108 - Final Project "
   ]
  },
  {
   "cell_type": "markdown",
   "metadata": {},
   "source": [
    "# Overview"
   ]
  },
  {
   "cell_type": "markdown",
   "metadata": {},
   "source": [
    "# Name & GitHub ID\n",
    "\n",
    "- Name: Yichi Zhang\n",
    "- GitHub Username: R1chZhang"
   ]
  },
  {
   "cell_type": "markdown",
   "metadata": {},
   "source": [
    "# Research Question"
   ]
  },
  {
   "cell_type": "markdown",
   "metadata": {},
   "source": [
    "Did public space worsen the traffic condition?\n",
    "\n",
    "Improve-wise point of view: parking allows viehcles to be removed from sides of the road and thus propote traffic speed.\n",
    "\n",
    "Deteriorate-wise point of view: parking areas take a lot of public space and thus increase populational density, resulting in more viehcles on unit area."
   ]
  },
  {
   "cell_type": "markdown",
   "metadata": {},
   "source": [
    "## Background and Prior Work"
   ]
  },
  {
   "cell_type": "markdown",
   "metadata": {},
   "source": [
    "&emsp;Common literature on the relationship between public space and traffic is that public space such as parks reduces the street space and thus causing more traffic congestions. Research from Manville and Shoup, however, states that off-street parking in fact making traffic congestion worse because these constructions take a considerable amount of land, pushing the population in a denser area, and thus levitating the traffic density<sup>1</sup>. Manville and Shoup attribute this mechanism to the high speed of populational growth and the unmatching speed of urban planning and street development, but they draw their conclusion based on data whose minimum unit is the city. In other words, such a mechanism sketches sketch a general trend among regions, but it is not detailed to districts and streets. This leaves with us a space of uncertainty, especially when it comes to the urban planning of a specific city. In light of this, this project is interested in investigating whether Manville and Shoup's claim holds for the city of San Diego, so that it can be used to guide the city's development in the future.Predecessors of data analysts such as Aryandoust et al. have created a Hidden Markov Model that relating parking density to traffic density<sup>2</sup>. This research shows an example of linking usage of pulic space and traffic density.\n",
    "\n",
    "References (include links):\n",
    "\n",
    "1) Manville, Michael & Shoup, Donald. (2005). People, Parking and Cities. Journal of Urban Planning and Development. 131. 233-245. 10.1061/(ASCE)0733-9488(2005)131:4(233). https://www.researchgate.net/publication/235358939_People_Parking_and_Cities\n",
    "\n",
    "2) Aryandoust, A., van Vliet, O. & Patt, A. City-scale car traffic and parking density maps from Uber Movement travel time data. Sci Data 6, 158 (2019). https://doi.org/10.1038/s41597-019-0159-6"
   ]
  },
  {
   "cell_type": "markdown",
   "metadata": {},
   "source": [
    "# Hypothesis\n"
   ]
  },
  {
   "cell_type": "markdown",
   "metadata": {},
   "source": [
    "Null Hypothesis: Population density around public space did not affect the traffic volume.\n",
    "\n",
    "Alternative Hypothsis: Population density around public space leads to an increase in the traffic volume."
   ]
  },
  {
   "cell_type": "markdown",
   "metadata": {},
   "source": [
    "# Dataset(s)"
   ]
  },
  {
   "attachments": {},
   "cell_type": "markdown",
   "metadata": {},
   "source": [
    "- Dataset Name: California Park, Beach, Open Space, or Coastline Access\n",
    "- Link to the dataset: https://data.ca.gov/dataset/park-beach-open-space-or-coastline-access\n",
    "- Number of observations: 543187\n",
    "\n",
    "This dataset contains the percent of residents within ½ mile of a public space(park, beach, open space, or coastline), geographic unit and county name of the space.\n",
    "\n",
    "\n",
    "- Dataset Name: Annual Average Daily Traffic (AADT) Volumes\n",
    "- Link to the dataset: https://data.ca.gov/dataset/fb62fd37-38e5-40a5-89d1-cb58ae12f244/resource/900d2d78-9344-47fa-8107-de383a2ef74a/download/tabular_aadt_2010.csv\n",
    "- Number of observations: 5933\n",
    "\n",
    "The dataset contains annual average daily traffic volume on each road, including the district and county name of the road."
   ]
  },
  {
   "cell_type": "markdown",
   "metadata": {},
   "source": [
    "&emsp;The primary goal of the project is to investigate whether demographic desity around public spaces is related to traffic volumes. To estimate the relationship, I plan to use `estimate` from CA Access data, which measures the percentage of residents within ½ mile of a open space, and the annual average daily traffic data(AADT), combined from `Ahead_AADT` and `Back_AADT` from AADT data. I will make a Suppport Vector regression among two data and use RMSE as a metric to evaluate the strength of the relationship, and use p_value obtained from t-test between the predicted AADT and the actual AADT to determine whether we reject or accept the null hypothesis. "
   ]
  },
  {
   "cell_type": "markdown",
   "metadata": {},
   "source": [
    "# Setup"
   ]
  },
  {
   "cell_type": "code",
   "execution_count": 164,
   "metadata": {},
   "outputs": [],
   "source": [
    "import numpy as np\n",
    "import pandas as pd\n",
    "import matplotlib.pyplot as plt\n",
    "import seaborn as sns\n",
    "from scipy.stats import ttest_ind\n",
    "from sklearn.svm import SVR\n",
    "from sklearn.pipeline import make_pipeline, Pipeline\n",
    "from sklearn.compose import ColumnTransformer\n",
    "from sklearn.preprocessing import StandardScaler,OneHotEncoder, OrdinalEncoder,PolynomialFeatures\n",
    "from sklearn.model_selection import train_test_split\n",
    "from sklearn.linear_model import LinearRegression\n",
    "%matplotlib inline\n",
    "%config InlineBackend.figure_format = 'retina'  # Higher resolution figures"
   ]
  },
  {
   "cell_type": "code",
   "execution_count": 3,
   "metadata": {},
   "outputs": [],
   "source": [
    "import warnings\n",
    "warnings.filterwarnings('ignore')"
   ]
  },
  {
   "cell_type": "code",
   "execution_count": 6,
   "metadata": {},
   "outputs": [],
   "source": [
    "# load data; this may takes a while since the file is over 500MB\n",
    "df = pd.read_excel('hci_accesstoparks_469_ca_re_co_cd_pl_ct-7-3-2017-ada.xlsx')"
   ]
  },
  {
   "cell_type": "code",
   "execution_count": 4,
   "metadata": {},
   "outputs": [],
   "source": [
    "AADT = pd.read_csv('tabular_aadt_2010.csv')"
   ]
  },
  {
   "cell_type": "code",
   "execution_count": 7,
   "metadata": {},
   "outputs": [
    {
     "data": {
      "text/html": [
       "<div>\n",
       "<style scoped>\n",
       "    .dataframe tbody tr th:only-of-type {\n",
       "        vertical-align: middle;\n",
       "    }\n",
       "\n",
       "    .dataframe tbody tr th {\n",
       "        vertical-align: top;\n",
       "    }\n",
       "\n",
       "    .dataframe thead th {\n",
       "        text-align: right;\n",
       "    }\n",
       "</style>\n",
       "<table border=\"1\" class=\"dataframe\">\n",
       "  <thead>\n",
       "    <tr style=\"text-align: right;\">\n",
       "      <th></th>\n",
       "      <th>abbreviation</th>\n",
       "      <th>county_name</th>\n",
       "    </tr>\n",
       "  </thead>\n",
       "  <tbody>\n",
       "    <tr>\n",
       "      <th>0</th>\n",
       "      <td>ALA</td>\n",
       "      <td>Alameda</td>\n",
       "    </tr>\n",
       "    <tr>\n",
       "      <th>1</th>\n",
       "      <td>ALP</td>\n",
       "      <td>Alpine</td>\n",
       "    </tr>\n",
       "    <tr>\n",
       "      <th>2</th>\n",
       "      <td>AMA</td>\n",
       "      <td>Amador</td>\n",
       "    </tr>\n",
       "    <tr>\n",
       "      <th>3</th>\n",
       "      <td>BUT</td>\n",
       "      <td>Butte</td>\n",
       "    </tr>\n",
       "    <tr>\n",
       "      <th>4</th>\n",
       "      <td>CC</td>\n",
       "      <td>Contra Costa</td>\n",
       "    </tr>\n",
       "  </tbody>\n",
       "</table>\n",
       "</div>"
      ],
      "text/plain": [
       "  abbreviation   county_name\n",
       "0          ALA       Alameda\n",
       "1          ALP        Alpine\n",
       "2          AMA        Amador\n",
       "3          BUT         Butte\n",
       "4          CC   Contra Costa"
      ]
     },
     "execution_count": 7,
     "metadata": {},
     "output_type": "execute_result"
    }
   ],
   "source": [
    "# a chart of Californian county names and their corresponding abbreviations\n",
    "# help to establish link between county abbreviation in AADT dataset and full county name+code in Access to parks dataset\n",
    "dictionary = pd.read_csv('county_name_code.txt',header=None,sep='\\s-\\s',names=['abbreviation','county_name'])\n",
    "dictionary.head()"
   ]
  },
  {
   "cell_type": "markdown",
   "metadata": {},
   "source": [
    "# Data Cleaning"
   ]
  },
  {
   "cell_type": "markdown",
   "metadata": {},
   "source": [
    "Describe your data cleaning steps here."
   ]
  },
  {
   "cell_type": "code",
   "execution_count": 8,
   "metadata": {
    "scrolled": false
   },
   "outputs": [
    {
     "data": {
      "text/html": [
       "<div>\n",
       "<style scoped>\n",
       "    .dataframe tbody tr th:only-of-type {\n",
       "        vertical-align: middle;\n",
       "    }\n",
       "\n",
       "    .dataframe tbody tr th {\n",
       "        vertical-align: top;\n",
       "    }\n",
       "\n",
       "    .dataframe thead th {\n",
       "        text-align: right;\n",
       "    }\n",
       "</style>\n",
       "<table border=\"1\" class=\"dataframe\">\n",
       "  <thead>\n",
       "    <tr style=\"text-align: right;\">\n",
       "      <th></th>\n",
       "      <th>ind_id</th>\n",
       "      <th>ind_definition</th>\n",
       "      <th>reportyear</th>\n",
       "      <th>race_eth_code</th>\n",
       "      <th>race_eth_name</th>\n",
       "      <th>geotype</th>\n",
       "      <th>geotypevalue</th>\n",
       "      <th>geoname</th>\n",
       "      <th>county_fips</th>\n",
       "      <th>county_name</th>\n",
       "      <th>...</th>\n",
       "      <th>numerator</th>\n",
       "      <th>denominator</th>\n",
       "      <th>estimate</th>\n",
       "      <th>ll_95ci</th>\n",
       "      <th>ul_95ci</th>\n",
       "      <th>se</th>\n",
       "      <th>rse</th>\n",
       "      <th>ca_decile</th>\n",
       "      <th>ca_rr</th>\n",
       "      <th>version</th>\n",
       "    </tr>\n",
       "  </thead>\n",
       "  <tbody>\n",
       "    <tr>\n",
       "      <th>0</th>\n",
       "      <td>469.0</td>\n",
       "      <td>Percent of Population within 1/2 Mile of Park,...</td>\n",
       "      <td>2010.0</td>\n",
       "      <td>1.0</td>\n",
       "      <td>AIAN</td>\n",
       "      <td>CA</td>\n",
       "      <td>6.0</td>\n",
       "      <td>California</td>\n",
       "      <td>NaN</td>\n",
       "      <td>NaN</td>\n",
       "      <td>...</td>\n",
       "      <td>78625.0</td>\n",
       "      <td>162250.0</td>\n",
       "      <td>48.459168</td>\n",
       "      <td>48.215988</td>\n",
       "      <td>48.702348</td>\n",
       "      <td>0.124071</td>\n",
       "      <td>0.256033</td>\n",
       "      <td>NaN</td>\n",
       "      <td>1.0</td>\n",
       "      <td>2017-07-03 11:02:07</td>\n",
       "    </tr>\n",
       "    <tr>\n",
       "      <th>1</th>\n",
       "      <td>469.0</td>\n",
       "      <td>Percent of Population within 1/2 Mile of Park,...</td>\n",
       "      <td>2010.0</td>\n",
       "      <td>1.0</td>\n",
       "      <td>AIAN</td>\n",
       "      <td>CA</td>\n",
       "      <td>6.0</td>\n",
       "      <td>California</td>\n",
       "      <td>NaN</td>\n",
       "      <td>NaN</td>\n",
       "      <td>...</td>\n",
       "      <td>11839.0</td>\n",
       "      <td>162250.0</td>\n",
       "      <td>7.296764</td>\n",
       "      <td>7.170210</td>\n",
       "      <td>7.423318</td>\n",
       "      <td>0.064568</td>\n",
       "      <td>0.884891</td>\n",
       "      <td>NaN</td>\n",
       "      <td>1.0</td>\n",
       "      <td>2017-07-03 11:02:07</td>\n",
       "    </tr>\n",
       "    <tr>\n",
       "      <th>2</th>\n",
       "      <td>469.0</td>\n",
       "      <td>Percent of Population within 1/2 Mile of Park,...</td>\n",
       "      <td>2010.0</td>\n",
       "      <td>1.0</td>\n",
       "      <td>AIAN</td>\n",
       "      <td>CA</td>\n",
       "      <td>6.0</td>\n",
       "      <td>California</td>\n",
       "      <td>NaN</td>\n",
       "      <td>NaN</td>\n",
       "      <td>...</td>\n",
       "      <td>12338.0</td>\n",
       "      <td>162250.0</td>\n",
       "      <td>7.604314</td>\n",
       "      <td>7.475335</td>\n",
       "      <td>7.733294</td>\n",
       "      <td>0.065806</td>\n",
       "      <td>0.865373</td>\n",
       "      <td>NaN</td>\n",
       "      <td>1.0</td>\n",
       "      <td>2017-07-03 11:02:07</td>\n",
       "    </tr>\n",
       "    <tr>\n",
       "      <th>3</th>\n",
       "      <td>469.0</td>\n",
       "      <td>Percent of Population within 1/2 Mile of Park,...</td>\n",
       "      <td>2010.0</td>\n",
       "      <td>1.0</td>\n",
       "      <td>AIAN</td>\n",
       "      <td>CA</td>\n",
       "      <td>6.0</td>\n",
       "      <td>California</td>\n",
       "      <td>NaN</td>\n",
       "      <td>NaN</td>\n",
       "      <td>...</td>\n",
       "      <td>4926.0</td>\n",
       "      <td>162250.0</td>\n",
       "      <td>3.036055</td>\n",
       "      <td>2.952568</td>\n",
       "      <td>3.119543</td>\n",
       "      <td>0.042596</td>\n",
       "      <td>1.403001</td>\n",
       "      <td>NaN</td>\n",
       "      <td>1.0</td>\n",
       "      <td>2017-07-03 11:02:07</td>\n",
       "    </tr>\n",
       "    <tr>\n",
       "      <th>4</th>\n",
       "      <td>469.0</td>\n",
       "      <td>Percent of Population within 1/2 Mile of Park,...</td>\n",
       "      <td>2010.0</td>\n",
       "      <td>1.0</td>\n",
       "      <td>AIAN</td>\n",
       "      <td>CA</td>\n",
       "      <td>6.0</td>\n",
       "      <td>California</td>\n",
       "      <td>NaN</td>\n",
       "      <td>NaN</td>\n",
       "      <td>...</td>\n",
       "      <td>17147.0</td>\n",
       "      <td>162250.0</td>\n",
       "      <td>10.568259</td>\n",
       "      <td>10.418666</td>\n",
       "      <td>10.717852</td>\n",
       "      <td>0.076323</td>\n",
       "      <td>0.722190</td>\n",
       "      <td>NaN</td>\n",
       "      <td>1.0</td>\n",
       "      <td>2017-07-03 11:02:07</td>\n",
       "    </tr>\n",
       "  </tbody>\n",
       "</table>\n",
       "<p>5 rows × 26 columns</p>\n",
       "</div>"
      ],
      "text/plain": [
       "   ind_id                                     ind_definition  reportyear  \\\n",
       "0   469.0  Percent of Population within 1/2 Mile of Park,...      2010.0   \n",
       "1   469.0  Percent of Population within 1/2 Mile of Park,...      2010.0   \n",
       "2   469.0  Percent of Population within 1/2 Mile of Park,...      2010.0   \n",
       "3   469.0  Percent of Population within 1/2 Mile of Park,...      2010.0   \n",
       "4   469.0  Percent of Population within 1/2 Mile of Park,...      2010.0   \n",
       "\n",
       "   race_eth_code race_eth_name geotype  geotypevalue     geoname  county_fips  \\\n",
       "0            1.0          AIAN      CA           6.0  California          NaN   \n",
       "1            1.0          AIAN      CA           6.0  California          NaN   \n",
       "2            1.0          AIAN      CA           6.0  California          NaN   \n",
       "3            1.0          AIAN      CA           6.0  California          NaN   \n",
       "4            1.0          AIAN      CA           6.0  California          NaN   \n",
       "\n",
       "  county_name  ...  numerator denominator   estimate    ll_95ci    ul_95ci  \\\n",
       "0         NaN  ...    78625.0    162250.0  48.459168  48.215988  48.702348   \n",
       "1         NaN  ...    11839.0    162250.0   7.296764   7.170210   7.423318   \n",
       "2         NaN  ...    12338.0    162250.0   7.604314   7.475335   7.733294   \n",
       "3         NaN  ...     4926.0    162250.0   3.036055   2.952568   3.119543   \n",
       "4         NaN  ...    17147.0    162250.0  10.568259  10.418666  10.717852   \n",
       "\n",
       "         se       rse  ca_decile  ca_rr             version  \n",
       "0  0.124071  0.256033        NaN    1.0 2017-07-03 11:02:07  \n",
       "1  0.064568  0.884891        NaN    1.0 2017-07-03 11:02:07  \n",
       "2  0.065806  0.865373        NaN    1.0 2017-07-03 11:02:07  \n",
       "3  0.042596  1.403001        NaN    1.0 2017-07-03 11:02:07  \n",
       "4  0.076323  0.722190        NaN    1.0 2017-07-03 11:02:07  \n",
       "\n",
       "[5 rows x 26 columns]"
      ]
     },
     "execution_count": 8,
     "metadata": {},
     "output_type": "execute_result"
    }
   ],
   "source": [
    "df.head()"
   ]
  },
  {
   "cell_type": "code",
   "execution_count": 9,
   "metadata": {},
   "outputs": [
    {
     "data": {
      "text/html": [
       "<div>\n",
       "<style scoped>\n",
       "    .dataframe tbody tr th:only-of-type {\n",
       "        vertical-align: middle;\n",
       "    }\n",
       "\n",
       "    .dataframe tbody tr th {\n",
       "        vertical-align: top;\n",
       "    }\n",
       "\n",
       "    .dataframe thead th {\n",
       "        text-align: right;\n",
       "    }\n",
       "</style>\n",
       "<table border=\"1\" class=\"dataframe\">\n",
       "  <thead>\n",
       "    <tr style=\"text-align: right;\">\n",
       "      <th></th>\n",
       "      <th>District</th>\n",
       "      <th>Route</th>\n",
       "      <th>County</th>\n",
       "      <th>Postmile</th>\n",
       "      <th>Description</th>\n",
       "      <th>Back_Peak_Hour</th>\n",
       "      <th>Back_Peak_Month</th>\n",
       "      <th>Back_AADT</th>\n",
       "      <th>Ahead_Peak_Hour</th>\n",
       "      <th>Ahead_Peak_Month</th>\n",
       "      <th>Ahead_AADT</th>\n",
       "    </tr>\n",
       "  </thead>\n",
       "  <tbody>\n",
       "    <tr>\n",
       "      <th>0</th>\n",
       "      <td>12</td>\n",
       "      <td>1</td>\n",
       "      <td>ORA</td>\n",
       "      <td>R0.129</td>\n",
       "      <td>DANA POINT, JCT. RTE. 5</td>\n",
       "      <td>0</td>\n",
       "      <td>0</td>\n",
       "      <td>0</td>\n",
       "      <td>3750</td>\n",
       "      <td>40000</td>\n",
       "      <td>37000</td>\n",
       "    </tr>\n",
       "    <tr>\n",
       "      <th>1</th>\n",
       "      <td>12</td>\n",
       "      <td>1</td>\n",
       "      <td>ORA</td>\n",
       "      <td>8.43</td>\n",
       "      <td>LAGUNA BEACH, MOUNTAIN</td>\n",
       "      <td>2850</td>\n",
       "      <td>38500</td>\n",
       "      <td>36000</td>\n",
       "      <td>2850</td>\n",
       "      <td>38500</td>\n",
       "      <td>36000</td>\n",
       "    </tr>\n",
       "    <tr>\n",
       "      <th>2</th>\n",
       "      <td>12</td>\n",
       "      <td>1</td>\n",
       "      <td>ORA</td>\n",
       "      <td>9.418</td>\n",
       "      <td>LAGUNA BEACH, RTE. 133 N.</td>\n",
       "      <td>2850</td>\n",
       "      <td>38500</td>\n",
       "      <td>36000</td>\n",
       "      <td>3600</td>\n",
       "      <td>43000</td>\n",
       "      <td>40000</td>\n",
       "    </tr>\n",
       "    <tr>\n",
       "      <th>3</th>\n",
       "      <td>12</td>\n",
       "      <td>1</td>\n",
       "      <td>ORA</td>\n",
       "      <td>19.797</td>\n",
       "      <td>NEWPORT BEACH, RTE. 55</td>\n",
       "      <td>4100</td>\n",
       "      <td>50000</td>\n",
       "      <td>46000</td>\n",
       "      <td>4400</td>\n",
       "      <td>42500</td>\n",
       "      <td>40000</td>\n",
       "    </tr>\n",
       "    <tr>\n",
       "      <th>4</th>\n",
       "      <td>12</td>\n",
       "      <td>1</td>\n",
       "      <td>ORA</td>\n",
       "      <td>21.549</td>\n",
       "      <td>SANTA ANA RIVER BRIDGE</td>\n",
       "      <td>3550</td>\n",
       "      <td>34000</td>\n",
       "      <td>32000</td>\n",
       "      <td>4300</td>\n",
       "      <td>41500</td>\n",
       "      <td>39000</td>\n",
       "    </tr>\n",
       "  </tbody>\n",
       "</table>\n",
       "</div>"
      ],
      "text/plain": [
       "   District  Route County Postmile                Description  Back_Peak_Hour  \\\n",
       "0        12      1    ORA   R0.129    DANA POINT, JCT. RTE. 5               0   \n",
       "1        12      1    ORA     8.43     LAGUNA BEACH, MOUNTAIN            2850   \n",
       "2        12      1    ORA    9.418  LAGUNA BEACH, RTE. 133 N.            2850   \n",
       "3        12      1    ORA   19.797     NEWPORT BEACH, RTE. 55            4100   \n",
       "4        12      1    ORA   21.549     SANTA ANA RIVER BRIDGE            3550   \n",
       "\n",
       "   Back_Peak_Month  Back_AADT  Ahead_Peak_Hour  Ahead_Peak_Month  Ahead_AADT  \n",
       "0                0          0             3750             40000       37000  \n",
       "1            38500      36000             2850             38500       36000  \n",
       "2            38500      36000             3600             43000       40000  \n",
       "3            50000      46000             4400             42500       40000  \n",
       "4            34000      32000             4300             41500       39000  "
      ]
     },
     "execution_count": 9,
     "metadata": {},
     "output_type": "execute_result"
    }
   ],
   "source": [
    "AADT.head()"
   ]
  },
  {
   "cell_type": "markdown",
   "metadata": {},
   "source": [
    "## Clean df"
   ]
  },
  {
   "cell_type": "code",
   "execution_count": 10,
   "metadata": {},
   "outputs": [
    {
     "data": {
      "text/plain": [
       "2010.0    543186\n",
       "Name: reportyear, dtype: int64"
      ]
     },
     "execution_count": 10,
     "metadata": {},
     "output_type": "execute_result"
    }
   ],
   "source": [
    "# report year, the reason why we choose 2010 AADT dataset instead of newer data\n",
    "df.reportyear.value_counts()"
   ]
  },
  {
   "cell_type": "code",
   "execution_count": 11,
   "metadata": {},
   "outputs": [],
   "source": [
    "#drop columns that are not available according to the dictionary\n",
    "df.drop(columns=['strata_two_code','strata_two_name'],inplace=True)"
   ]
  },
  {
   "cell_type": "code",
   "execution_count": 12,
   "metadata": {
    "scrolled": false
   },
   "outputs": [
    {
     "data": {
      "text/plain": [
       "ind_id                          NaN\n",
       "ind_definition     End of Worksheet\n",
       "reportyear                      NaN\n",
       "race_eth_code                   NaN\n",
       "race_eth_name                   NaN\n",
       "geotype                         NaN\n",
       "geotypevalue                    NaN\n",
       "geoname                         NaN\n",
       "county_fips                     NaN\n",
       "county_name                     NaN\n",
       "region_code                     NaN\n",
       "region_name                     NaN\n",
       "strata_one_code                 NaN\n",
       "strata_one_name                 NaN\n",
       "numerator                       NaN\n",
       "denominator                     NaN\n",
       "estimate                        NaN\n",
       "ll_95ci                         NaN\n",
       "ul_95ci                         NaN\n",
       "se                              NaN\n",
       "rse                             NaN\n",
       "ca_decile                       NaN\n",
       "ca_rr                           NaN\n",
       "version                         NaT\n",
       "Name: 543186, dtype: object"
      ]
     },
     "execution_count": 12,
     "metadata": {},
     "output_type": "execute_result"
    }
   ],
   "source": [
    "#the last row is for makring the end of the worksheet. Drop that too\n",
    "df.iloc[-1]"
   ]
  },
  {
   "cell_type": "code",
   "execution_count": 13,
   "metadata": {},
   "outputs": [],
   "source": [
    "df.drop(index=543186,inplace=True)"
   ]
  },
  {
   "cell_type": "markdown",
   "metadata": {},
   "source": [
    "## Clean AADT"
   ]
  },
  {
   "cell_type": "code",
   "execution_count": 14,
   "metadata": {},
   "outputs": [
    {
     "data": {
      "text/plain": [
       "array(['ORA', 'LA', 'VEN', 'SB', 'SLO', 'MON', 'SCR', 'SM', 'SF', 'MRN',\n",
       "       'SON', 'MEN', 'SBD', 'TRI', 'SIS', 'CC', 'SJ', 'STA', 'CAL', 'ALP',\n",
       "       'SD', 'KER', 'KIN', 'FRE', 'MER', 'SAC', 'YOL', 'COL', 'GLE',\n",
       "       'TEH', 'SHA', 'INY', 'MNO', 'IMP', 'SCL', 'RIV', 'NAP', 'SOL',\n",
       "       'ALA', 'AMA', 'LAK', 'SUT', 'YUB', 'NEV', 'PLA', 'SBT', 'BUT',\n",
       "       'HUM', 'PLU', 'LAS', 'MAD', 'MPA', 'TUL', 'TUO', 'ED', 'SIE', 'DN',\n",
       "       'MOD'], dtype=object)"
      ]
     },
     "execution_count": 14,
     "metadata": {},
     "output_type": "execute_result"
    }
   ],
   "source": [
    "AADT.County.unique()"
   ]
  },
  {
   "cell_type": "code",
   "execution_count": 15,
   "metadata": {
    "scrolled": false
   },
   "outputs": [
    {
     "data": {
      "text/html": [
       "<div>\n",
       "<style scoped>\n",
       "    .dataframe tbody tr th:only-of-type {\n",
       "        vertical-align: middle;\n",
       "    }\n",
       "\n",
       "    .dataframe tbody tr th {\n",
       "        vertical-align: top;\n",
       "    }\n",
       "\n",
       "    .dataframe thead th {\n",
       "        text-align: right;\n",
       "    }\n",
       "</style>\n",
       "<table border=\"1\" class=\"dataframe\">\n",
       "  <thead>\n",
       "    <tr style=\"text-align: right;\">\n",
       "      <th></th>\n",
       "      <th>abbreviation</th>\n",
       "      <th>county_name</th>\n",
       "    </tr>\n",
       "  </thead>\n",
       "  <tbody>\n",
       "    <tr>\n",
       "      <th>0</th>\n",
       "      <td>ALA</td>\n",
       "      <td>Alameda</td>\n",
       "    </tr>\n",
       "    <tr>\n",
       "      <th>1</th>\n",
       "      <td>ALP</td>\n",
       "      <td>Alpine</td>\n",
       "    </tr>\n",
       "    <tr>\n",
       "      <th>2</th>\n",
       "      <td>AMA</td>\n",
       "      <td>Amador</td>\n",
       "    </tr>\n",
       "    <tr>\n",
       "      <th>3</th>\n",
       "      <td>BUT</td>\n",
       "      <td>Butte</td>\n",
       "    </tr>\n",
       "    <tr>\n",
       "      <th>4</th>\n",
       "      <td>CC</td>\n",
       "      <td>Contra Costa</td>\n",
       "    </tr>\n",
       "  </tbody>\n",
       "</table>\n",
       "</div>"
      ],
      "text/plain": [
       "  abbreviation   county_name\n",
       "0          ALA       Alameda\n",
       "1          ALP        Alpine\n",
       "2          AMA        Amador\n",
       "3          BUT         Butte\n",
       "4          CC   Contra Costa"
      ]
     },
     "execution_count": 15,
     "metadata": {},
     "output_type": "execute_result"
    }
   ],
   "source": [
    "dictionary.head()"
   ]
  },
  {
   "cell_type": "code",
   "execution_count": 16,
   "metadata": {},
   "outputs": [],
   "source": [
    "temp = dictionary.set_index('county_name')"
   ]
  },
  {
   "cell_type": "code",
   "execution_count": 17,
   "metadata": {},
   "outputs": [],
   "source": [
    "# merge county abbreviation to main dataframe\n",
    "df['County'] = df.county_name.apply(lambda x: temp.abbreviation[x] if type(x)==str else np.nan)"
   ]
  },
  {
   "cell_type": "code",
   "execution_count": 18,
   "metadata": {},
   "outputs": [],
   "source": [
    "# aggregate ahead and back traffic volume\n",
    "AADT['aggregated_AADT'] = AADT.Ahead_AADT+AADT.Back_AADT"
   ]
  },
  {
   "cell_type": "markdown",
   "metadata": {},
   "source": [
    "# Data Analysis & Results"
   ]
  },
  {
   "cell_type": "markdown",
   "metadata": {},
   "source": [
    "## Data Description and Preworks"
   ]
  },
  {
   "cell_type": "markdown",
   "metadata": {},
   "source": [
    "&emsp; The project use two datasets from data.ca.gov. One is the <em>California Park, Beach, Open Space, or Coastline Access(shorted as CA Access)</em>, which. The other is the <em>Annual Average Daily Traffic (AADT) Volumes</em>, which measures the traffic counts on each county's roads. While more up-to-date data are available, the project decides to adopt AADT data of 2010 to be inline with the California parking data that also took the measurement in 2010."
   ]
  },
  {
   "cell_type": "markdown",
   "metadata": {},
   "source": [
    "&emsp;The primary goal of the project is to investigate whether demographic desity around public spaces is related to traffic volumes. To estimate the relationship, I plan to use `estimate` from CA Access data, which measures the percentage of residents within ½ mile of a open space, and the annual average daily traffic data(AADT), combined from `Ahead_AADT` and `Back_AADT` from AADT data. I will make a Support Vector regression among two data and use RMSE as a metric to evaluate the strength of the relationship, and use p_value obtained from t-test between the predicted AADT and the actual AADT to determine whether we reject or accept the null hypothesis. "
   ]
  },
  {
   "cell_type": "markdown",
   "metadata": {},
   "source": [
    "&emsp;To begin with, it would be essential to ensure that the geographic scope of AADT data is inline with CA Access. The CA Access dataset collects geographic unit ranging from CT(censcus tract) to CA(California State), while AADT contains geographic units of Districts, which is comprarable to CT in CA Access, and County, comparable to CO."
   ]
  },
  {
   "cell_type": "code",
   "execution_count": 19,
   "metadata": {},
   "outputs": [
    {
     "data": {
      "text/plain": [
       "geotype\n",
       "CA    28.042001\n",
       "CD    21.938540\n",
       "CO    25.223910\n",
       "CT    27.978559\n",
       "PL    22.825138\n",
       "RE    24.322386\n",
       "Name: estimate, dtype: float64"
      ]
     },
     "execution_count": 19,
     "metadata": {},
     "output_type": "execute_result"
    }
   ],
   "source": [
    "df.groupby('geotype').mean().estimate"
   ]
  },
  {
   "cell_type": "markdown",
   "metadata": {},
   "source": [
    "By t-test with a threshold of 0.05, we ascertain that CD,CT,PL geographic types have similar distribution with CO(county) and thus can be used together for study, while more generalized geotypes such as RE(region) and CA(state) are different. In short, the model will adopt data with geotype CO,CD,CT and PL and ignore CA,RE in following steps."
   ]
  },
  {
   "cell_type": "code",
   "execution_count": 20,
   "metadata": {},
   "outputs": [
    {
     "data": {
      "text/plain": [
       "Ttest_indResult(statistic=5.544452796558487, pvalue=2.9797941012722257e-08)"
      ]
     },
     "execution_count": 20,
     "metadata": {},
     "output_type": "execute_result"
    }
   ],
   "source": [
    "ttest_ind(df.loc[df.geotype=='CO'].estimate.dropna(),df.loc[df.geotype=='CD'].estimate.dropna())"
   ]
  },
  {
   "cell_type": "code",
   "execution_count": 21,
   "metadata": {},
   "outputs": [
    {
     "data": {
      "text/plain": [
       "Ttest_indResult(statistic=-3.759495567842895, pvalue=0.00017027889024479826)"
      ]
     },
     "execution_count": 21,
     "metadata": {},
     "output_type": "execute_result"
    }
   ],
   "source": [
    "ttest_ind(df.loc[df.geotype=='CO'].estimate.dropna(),df.loc[df.geotype=='CT'].estimate.dropna())"
   ]
  },
  {
   "cell_type": "code",
   "execution_count": 22,
   "metadata": {},
   "outputs": [
    {
     "data": {
      "text/plain": [
       "Ttest_indResult(statistic=3.6878789323068366, pvalue=0.00022628889144191367)"
      ]
     },
     "execution_count": 22,
     "metadata": {},
     "output_type": "execute_result"
    }
   ],
   "source": [
    "ttest_ind(df.loc[df.geotype=='CO'].estimate.dropna(),df.loc[df.geotype=='PL'].estimate.dropna())"
   ]
  },
  {
   "cell_type": "code",
   "execution_count": 23,
   "metadata": {},
   "outputs": [
    {
     "data": {
      "text/plain": [
       "Ttest_indResult(statistic=0.7484046596260092, pvalue=0.45426154496722215)"
      ]
     },
     "execution_count": 23,
     "metadata": {},
     "output_type": "execute_result"
    }
   ],
   "source": [
    "ttest_ind(df.loc[df.geotype=='CO'].estimate.dropna(),df.loc[df.geotype=='RE'].estimate.dropna())"
   ]
  },
  {
   "cell_type": "code",
   "execution_count": 24,
   "metadata": {},
   "outputs": [
    {
     "data": {
      "text/plain": [
       "Ttest_indResult(statistic=-0.6750305501397625, pvalue=0.49970555503318137)"
      ]
     },
     "execution_count": 24,
     "metadata": {},
     "output_type": "execute_result"
    }
   ],
   "source": [
    "ttest_ind(df.loc[df.geotype=='CO'].estimate.dropna(),df.loc[df.geotype=='CA'].estimate.dropna())"
   ]
  },
  {
   "cell_type": "markdown",
   "metadata": {},
   "source": [
    "Generate dataframe for regression, using county as the minimum geographic unit."
   ]
  },
  {
   "cell_type": "code",
   "execution_count": 35,
   "metadata": {
    "scrolled": true
   },
   "outputs": [],
   "source": [
    "df2 = df.loc[df.geotype.isin(['CO','CT','CD','PL'])]\n",
    "df2 = df2.dropna(subset=['estimate','county_name'])"
   ]
  },
  {
   "cell_type": "code",
   "execution_count": 64,
   "metadata": {
    "scrolled": false
   },
   "outputs": [
    {
     "data": {
      "text/plain": [
       "58"
      ]
     },
     "execution_count": 64,
     "metadata": {},
     "output_type": "execute_result"
    }
   ],
   "source": [
    "df2[['County','estimate']].groupby('County').mean().shape[0]"
   ]
  },
  {
   "cell_type": "code",
   "execution_count": 65,
   "metadata": {},
   "outputs": [
    {
     "data": {
      "text/plain": [
       "58"
      ]
     },
     "execution_count": 65,
     "metadata": {},
     "output_type": "execute_result"
    }
   ],
   "source": [
    "AADT[['County','aggregated_AADT']].groupby('County').mean().shape[0]"
   ]
  },
  {
   "cell_type": "code",
   "execution_count": 69,
   "metadata": {
    "scrolled": true
   },
   "outputs": [
    {
     "data": {
      "text/plain": [
       "(44, 2)"
      ]
     },
     "execution_count": 69,
     "metadata": {},
     "output_type": "execute_result"
    }
   ],
   "source": [
    "df3 = pd.concat([df2[['County','estimate']].groupby('County').mean(),\n",
    "                 AADT[['County','aggregated_AADT']].groupby('County').mean()],axis=1,join='inner')\n",
    "df3.shape"
   ]
  },
  {
   "cell_type": "code",
   "execution_count": 71,
   "metadata": {
    "scrolled": false
   },
   "outputs": [
    {
     "data": {
      "text/html": [
       "<div>\n",
       "<style scoped>\n",
       "    .dataframe tbody tr th:only-of-type {\n",
       "        vertical-align: middle;\n",
       "    }\n",
       "\n",
       "    .dataframe tbody tr th {\n",
       "        vertical-align: top;\n",
       "    }\n",
       "\n",
       "    .dataframe thead th {\n",
       "        text-align: right;\n",
       "    }\n",
       "</style>\n",
       "<table border=\"1\" class=\"dataframe\">\n",
       "  <thead>\n",
       "    <tr style=\"text-align: right;\">\n",
       "      <th></th>\n",
       "      <th>estimate</th>\n",
       "      <th>aggregated_AADT</th>\n",
       "    </tr>\n",
       "    <tr>\n",
       "      <th>County</th>\n",
       "      <th></th>\n",
       "      <th></th>\n",
       "    </tr>\n",
       "  </thead>\n",
       "  <tbody>\n",
       "    <tr>\n",
       "      <th>ALA</th>\n",
       "      <td>33.446114</td>\n",
       "      <td>157996.242775</td>\n",
       "    </tr>\n",
       "    <tr>\n",
       "      <th>ALP</th>\n",
       "      <td>31.597988</td>\n",
       "      <td>2842.500000</td>\n",
       "    </tr>\n",
       "    <tr>\n",
       "      <th>AMA</th>\n",
       "      <td>13.533711</td>\n",
       "      <td>15965.909091</td>\n",
       "    </tr>\n",
       "    <tr>\n",
       "      <th>BUT</th>\n",
       "      <td>18.458739</td>\n",
       "      <td>28942.527473</td>\n",
       "    </tr>\n",
       "    <tr>\n",
       "      <th>COL</th>\n",
       "      <td>18.693014</td>\n",
       "      <td>25242.352941</td>\n",
       "    </tr>\n",
       "    <tr>\n",
       "      <th>FRE</th>\n",
       "      <td>19.834707</td>\n",
       "      <td>61357.835052</td>\n",
       "    </tr>\n",
       "    <tr>\n",
       "      <th>GLE</th>\n",
       "      <td>10.357625</td>\n",
       "      <td>15748.000000</td>\n",
       "    </tr>\n",
       "    <tr>\n",
       "      <th>HUM</th>\n",
       "      <td>21.054139</td>\n",
       "      <td>23522.649573</td>\n",
       "    </tr>\n",
       "    <tr>\n",
       "      <th>IMP</th>\n",
       "      <td>21.600322</td>\n",
       "      <td>23624.251497</td>\n",
       "    </tr>\n",
       "    <tr>\n",
       "      <th>INY</th>\n",
       "      <td>38.798056</td>\n",
       "      <td>6355.306122</td>\n",
       "    </tr>\n",
       "    <tr>\n",
       "      <th>KER</th>\n",
       "      <td>21.370699</td>\n",
       "      <td>39112.052402</td>\n",
       "    </tr>\n",
       "    <tr>\n",
       "      <th>KIN</th>\n",
       "      <td>14.782130</td>\n",
       "      <td>25235.000000</td>\n",
       "    </tr>\n",
       "    <tr>\n",
       "      <th>LAK</th>\n",
       "      <td>16.430554</td>\n",
       "      <td>16148.648649</td>\n",
       "    </tr>\n",
       "    <tr>\n",
       "      <th>LAS</th>\n",
       "      <td>20.753208</td>\n",
       "      <td>7767.428571</td>\n",
       "    </tr>\n",
       "    <tr>\n",
       "      <th>MAD</th>\n",
       "      <td>10.700694</td>\n",
       "      <td>45897.553191</td>\n",
       "    </tr>\n",
       "    <tr>\n",
       "      <th>MEN</th>\n",
       "      <td>14.136018</td>\n",
       "      <td>11962.650602</td>\n",
       "    </tr>\n",
       "    <tr>\n",
       "      <th>MER</th>\n",
       "      <td>20.202291</td>\n",
       "      <td>36789.320388</td>\n",
       "    </tr>\n",
       "    <tr>\n",
       "      <th>MNO</th>\n",
       "      <td>40.182341</td>\n",
       "      <td>3757.307692</td>\n",
       "    </tr>\n",
       "    <tr>\n",
       "      <th>MOD</th>\n",
       "      <td>13.844665</td>\n",
       "      <td>4327.058824</td>\n",
       "    </tr>\n",
       "    <tr>\n",
       "      <th>MRN</th>\n",
       "      <td>44.989551</td>\n",
       "      <td>135719.791667</td>\n",
       "    </tr>\n",
       "    <tr>\n",
       "      <th>NAP</th>\n",
       "      <td>24.780880</td>\n",
       "      <td>50483.898305</td>\n",
       "    </tr>\n",
       "    <tr>\n",
       "      <th>NEV</th>\n",
       "      <td>19.486486</td>\n",
       "      <td>31752.343750</td>\n",
       "    </tr>\n",
       "    <tr>\n",
       "      <th>ORA</th>\n",
       "      <td>33.028674</td>\n",
       "      <td>277915.217391</td>\n",
       "    </tr>\n",
       "    <tr>\n",
       "      <th>PLA</th>\n",
       "      <td>27.880155</td>\n",
       "      <td>69671.717172</td>\n",
       "    </tr>\n",
       "    <tr>\n",
       "      <th>PLU</th>\n",
       "      <td>24.630073</td>\n",
       "      <td>5503.000000</td>\n",
       "    </tr>\n",
       "    <tr>\n",
       "      <th>RIV</th>\n",
       "      <td>19.806472</td>\n",
       "      <td>136136.854460</td>\n",
       "    </tr>\n",
       "    <tr>\n",
       "      <th>SAC</th>\n",
       "      <td>32.432393</td>\n",
       "      <td>169909.062500</td>\n",
       "    </tr>\n",
       "    <tr>\n",
       "      <th>SBT</th>\n",
       "      <td>17.796611</td>\n",
       "      <td>29766.538462</td>\n",
       "    </tr>\n",
       "    <tr>\n",
       "      <th>SCL</th>\n",
       "      <td>30.893014</td>\n",
       "      <td>152948.617021</td>\n",
       "    </tr>\n",
       "    <tr>\n",
       "      <th>SHA</th>\n",
       "      <td>15.303015</td>\n",
       "      <td>33417.364341</td>\n",
       "    </tr>\n",
       "    <tr>\n",
       "      <th>SIE</th>\n",
       "      <td>33.975644</td>\n",
       "      <td>1771.875000</td>\n",
       "    </tr>\n",
       "    <tr>\n",
       "      <th>SIS</th>\n",
       "      <td>19.233591</td>\n",
       "      <td>15393.132530</td>\n",
       "    </tr>\n",
       "    <tr>\n",
       "      <th>SLO</th>\n",
       "      <td>23.537224</td>\n",
       "      <td>28247.117117</td>\n",
       "    </tr>\n",
       "    <tr>\n",
       "      <th>SOL</th>\n",
       "      <td>30.543415</td>\n",
       "      <td>113186.296296</td>\n",
       "    </tr>\n",
       "    <tr>\n",
       "      <th>SON</th>\n",
       "      <td>25.282879</td>\n",
       "      <td>52717.156863</td>\n",
       "    </tr>\n",
       "    <tr>\n",
       "      <th>STA</th>\n",
       "      <td>26.562510</td>\n",
       "      <td>57466.250000</td>\n",
       "    </tr>\n",
       "    <tr>\n",
       "      <th>SUT</th>\n",
       "      <td>17.451621</td>\n",
       "      <td>46994.000000</td>\n",
       "    </tr>\n",
       "    <tr>\n",
       "      <th>TEH</th>\n",
       "      <td>9.871510</td>\n",
       "      <td>31735.294118</td>\n",
       "    </tr>\n",
       "    <tr>\n",
       "      <th>TRI</th>\n",
       "      <td>33.416752</td>\n",
       "      <td>3125.483871</td>\n",
       "    </tr>\n",
       "    <tr>\n",
       "      <th>TUL</th>\n",
       "      <td>17.756853</td>\n",
       "      <td>31589.014085</td>\n",
       "    </tr>\n",
       "    <tr>\n",
       "      <th>TUO</th>\n",
       "      <td>24.874945</td>\n",
       "      <td>13941.764706</td>\n",
       "    </tr>\n",
       "    <tr>\n",
       "      <th>VEN</th>\n",
       "      <td>28.973093</td>\n",
       "      <td>87240.240000</td>\n",
       "    </tr>\n",
       "    <tr>\n",
       "      <th>YOL</th>\n",
       "      <td>28.190769</td>\n",
       "      <td>61064.705882</td>\n",
       "    </tr>\n",
       "    <tr>\n",
       "      <th>YUB</th>\n",
       "      <td>21.420246</td>\n",
       "      <td>35772.820513</td>\n",
       "    </tr>\n",
       "  </tbody>\n",
       "</table>\n",
       "</div>"
      ],
      "text/plain": [
       "         estimate  aggregated_AADT\n",
       "County                            \n",
       "ALA     33.446114    157996.242775\n",
       "ALP     31.597988      2842.500000\n",
       "AMA     13.533711     15965.909091\n",
       "BUT     18.458739     28942.527473\n",
       "COL     18.693014     25242.352941\n",
       "FRE     19.834707     61357.835052\n",
       "GLE     10.357625     15748.000000\n",
       "HUM     21.054139     23522.649573\n",
       "IMP     21.600322     23624.251497\n",
       "INY     38.798056      6355.306122\n",
       "KER     21.370699     39112.052402\n",
       "KIN     14.782130     25235.000000\n",
       "LAK     16.430554     16148.648649\n",
       "LAS     20.753208      7767.428571\n",
       "MAD     10.700694     45897.553191\n",
       "MEN     14.136018     11962.650602\n",
       "MER     20.202291     36789.320388\n",
       "MNO     40.182341      3757.307692\n",
       "MOD     13.844665      4327.058824\n",
       "MRN     44.989551    135719.791667\n",
       "NAP     24.780880     50483.898305\n",
       "NEV     19.486486     31752.343750\n",
       "ORA     33.028674    277915.217391\n",
       "PLA     27.880155     69671.717172\n",
       "PLU     24.630073      5503.000000\n",
       "RIV     19.806472    136136.854460\n",
       "SAC     32.432393    169909.062500\n",
       "SBT     17.796611     29766.538462\n",
       "SCL     30.893014    152948.617021\n",
       "SHA     15.303015     33417.364341\n",
       "SIE     33.975644      1771.875000\n",
       "SIS     19.233591     15393.132530\n",
       "SLO     23.537224     28247.117117\n",
       "SOL     30.543415    113186.296296\n",
       "SON     25.282879     52717.156863\n",
       "STA     26.562510     57466.250000\n",
       "SUT     17.451621     46994.000000\n",
       "TEH      9.871510     31735.294118\n",
       "TRI     33.416752      3125.483871\n",
       "TUL     17.756853     31589.014085\n",
       "TUO     24.874945     13941.764706\n",
       "VEN     28.973093     87240.240000\n",
       "YOL     28.190769     61064.705882\n",
       "YUB     21.420246     35772.820513"
      ]
     },
     "execution_count": 71,
     "metadata": {},
     "output_type": "execute_result"
    }
   ],
   "source": [
    "df3"
   ]
  },
  {
   "cell_type": "markdown",
   "metadata": {},
   "source": [
    "By running a SVR, we end up with a RMSE<0, suggesting that trafic volume have nearly no relationship to populational density around the public recreation space."
   ]
  },
  {
   "cell_type": "code",
   "execution_count": 72,
   "metadata": {},
   "outputs": [],
   "source": [
    "X,y = df3.estimate,df3.aggregated_AADT\n",
    "X_train, X_test, y_train, y_test = train_test_split(\n",
    "    X, y, test_size=0.2)"
   ]
  },
  {
   "cell_type": "code",
   "execution_count": 74,
   "metadata": {},
   "outputs": [
    {
     "data": {
      "text/plain": [
       "SVR()"
      ]
     },
     "execution_count": 74,
     "metadata": {},
     "output_type": "execute_result"
    }
   ],
   "source": [
    "svr = SVR()\n",
    "svr.fit(X_train.values.reshape(-1,1),y_train.values.reshape(-1,1))"
   ]
  },
  {
   "cell_type": "code",
   "execution_count": 75,
   "metadata": {},
   "outputs": [
    {
     "data": {
      "text/plain": [
       "-0.16579640183673106"
      ]
     },
     "execution_count": 75,
     "metadata": {},
     "output_type": "execute_result"
    }
   ],
   "source": [
    "svr.score(X_train.values.reshape(-1,1),y_train.values.reshape(-1,1))"
   ]
  },
  {
   "cell_type": "markdown",
   "metadata": {},
   "source": [
    "However, looking back at the rse of CA Access dataset, it has brought to the attention that only about 20% of the estimates have rse below 30%, while the rest are ≥ 30% and are deemed as unreliable accroding to the dataset dictionary and [program document](http://www.cdph.ca.gov/programs/ohir/Documents/OHIRProfiles2014.pdf)."
   ]
  },
  {
   "cell_type": "code",
   "execution_count": 91,
   "metadata": {},
   "outputs": [
    {
     "data": {
      "text/plain": [
       "False    422786\n",
       "True      99190\n",
       "Name: rse, dtype: int64"
      ]
     },
     "execution_count": 91,
     "metadata": {},
     "output_type": "execute_result"
    }
   ],
   "source": [
    "(df2.rse<30).value_counts()"
   ]
  },
  {
   "cell_type": "code",
   "execution_count": 110,
   "metadata": {},
   "outputs": [
    {
     "data": {
      "text/plain": [
       "Text(0.5, 1.0, 'distribution of rse')"
      ]
     },
     "execution_count": 110,
     "metadata": {},
     "output_type": "execute_result"
    },
    {
     "data": {
      "image/png": "[encoded data removed]",
      "text/plain": [
       "<Figure size 432x288 with 1 Axes>"
      ]
     },
     "metadata": {
      "image/png": {
       "height": 263,
       "width": 375
      },
      "needs_background": "light"
     },
     "output_type": "display_data"
    }
   ],
   "source": [
    "plt.boxplot(df2.rse.dropna())\n",
    "plt.title('distribution of rse')"
   ]
  },
  {
   "cell_type": "markdown",
   "metadata": {},
   "source": [
    "After eliminate unreliable data"
   ]
  },
  {
   "cell_type": "code",
   "execution_count": 113,
   "metadata": {},
   "outputs": [],
   "source": [
    "df3 = pd.concat([df2.dropna(subset=['rse']).loc[df2.rse<30][['County','estimate']].groupby('County').mean(),\n",
    "                 AADT[['County','aggregated_AADT']].groupby('County').mean()],axis=1,join='inner')"
   ]
  },
  {
   "cell_type": "code",
   "execution_count": 115,
   "metadata": {},
   "outputs": [],
   "source": [
    "X,y = df3.estimate,df3.aggregated_AADT\n",
    "X_train, X_test, y_train, y_test = train_test_split(\n",
    "    X, y, test_size=0.2)"
   ]
  },
  {
   "cell_type": "code",
   "execution_count": 131,
   "metadata": {},
   "outputs": [
    {
     "data": {
      "text/plain": [
       "SVR()"
      ]
     },
     "execution_count": 131,
     "metadata": {},
     "output_type": "execute_result"
    }
   ],
   "source": [
    "svr = SVR()\n",
    "svr.fit(X_train.values.reshape(-1,1),y_train.values.reshape(-1,1))"
   ]
  },
  {
   "cell_type": "code",
   "execution_count": 132,
   "metadata": {},
   "outputs": [
    {
     "data": {
      "text/plain": [
       "-0.11232116486863908"
      ]
     },
     "execution_count": 132,
     "metadata": {},
     "output_type": "execute_result"
    }
   ],
   "source": [
    "svr.score(X.values.reshape(-1,1),y.values.reshape(-1,1))"
   ]
  },
  {
   "cell_type": "markdown",
   "metadata": {},
   "source": [
    "SVR prove to perform badly on the given dataset; try linear and polynomial regression instead"
   ]
  },
  {
   "cell_type": "code",
   "execution_count": 165,
   "metadata": {},
   "outputs": [
    {
     "data": {
      "text/plain": [
       "LinearRegression()"
      ]
     },
     "execution_count": 165,
     "metadata": {},
     "output_type": "execute_result"
    }
   ],
   "source": [
    "reg = LinearRegression()\n",
    "reg.fit(X_train.values.reshape(-1,1),y_train.values.reshape(-1,1))"
   ]
  },
  {
   "cell_type": "code",
   "execution_count": 166,
   "metadata": {},
   "outputs": [
    {
     "data": {
      "text/plain": [
       "0.2431927883962124"
      ]
     },
     "execution_count": 166,
     "metadata": {},
     "output_type": "execute_result"
    }
   ],
   "source": [
    "reg.score(X.values.reshape(-1,1),y.values.reshape(-1,1))"
   ]
  },
  {
   "cell_type": "code",
   "execution_count": 174,
   "metadata": {},
   "outputs": [],
   "source": [
    "scaler = StandardScaler()\n",
    "r2 = []\n",
    "for i in range(2,11):\n",
    "    degree=i\n",
    "    polyreg=make_pipeline(PolynomialFeatures(degree),scaler,LinearRegression())\n",
    "    polyreg.fit(X_train.values.reshape(-1,1),y_train.values.reshape(-1,1))\n",
    "    r2.append(polyreg.score(X.values.reshape(-1,1),y.values.reshape(-1,1)))"
   ]
  },
  {
   "cell_type": "code",
   "execution_count": 176,
   "metadata": {},
   "outputs": [
    {
     "data": {
      "text/plain": [
       "2     0.334192\n",
       "3     0.340352\n",
       "4     0.341950\n",
       "5     0.358456\n",
       "6     0.360957\n",
       "7     0.379032\n",
       "8     0.398638\n",
       "9     0.226503\n",
       "10   -0.049326\n",
       "dtype: float64"
      ]
     },
     "execution_count": 176,
     "metadata": {},
     "output_type": "execute_result"
    }
   ],
   "source": [
    "r2 = pd.Series(r2,index = np.arange(2,11))\n",
    "r2"
   ]
  },
  {
   "cell_type": "code",
   "execution_count": 179,
   "metadata": {},
   "outputs": [
    {
     "data": {
      "text/plain": [
       "(8, 0.398637765625369)"
      ]
     },
     "execution_count": 179,
     "metadata": {},
     "output_type": "execute_result"
    }
   ],
   "source": [
    "r2.idxmax(),r2.max()"
   ]
  },
  {
   "cell_type": "code",
   "execution_count": 194,
   "metadata": {},
   "outputs": [
    {
     "data": {
      "text/plain": [
       "<matplotlib.lines.Line2D at 0x30e1f4d0>"
      ]
     },
     "execution_count": 194,
     "metadata": {},
     "output_type": "execute_result"
    },
    {
     "data": {
      "image/png": "[encoded data removed]",
      "text/plain": [
       "<Figure size 432x288 with 1 Axes>"
      ]
     },
     "metadata": {
      "image/png": {
       "height": 277,
       "width": 420
      },
      "needs_background": "light"
     },
     "output_type": "display_data"
    }
   ],
   "source": [
    "plt.plot(r2)\n",
    "plt.title('R-square Score For Polynomial Regression With Respect to Degrees')\n",
    "plt.xlabel('Degree')\n",
    "plt.ylabel('R-square')\n",
    "plt.axvline(8,color='r',alpha=0.5,ls='--')\n",
    "plt.axhline(r2.max(),color='r',alpha=0.5,ls='--')"
   ]
  },
  {
   "cell_type": "markdown",
   "metadata": {},
   "source": [
    "After conducting linear and polynomial regressions, we choose a polynomial regression of degree 8, with a RMSE of 0.398, which indicates a weak relationship."
   ]
  },
  {
   "cell_type": "markdown",
   "metadata": {},
   "source": [
    "### Hypothesis Testing"
   ]
  },
  {
   "cell_type": "code",
   "execution_count": 195,
   "metadata": {},
   "outputs": [
    {
     "data": {
      "text/plain": [
       "Pipeline(steps=[('polynomialfeatures', PolynomialFeatures(degree=8)),\n",
       "                ('standardscaler', StandardScaler()),\n",
       "                ('linearregression', LinearRegression())])"
      ]
     },
     "execution_count": 195,
     "metadata": {},
     "output_type": "execute_result"
    }
   ],
   "source": [
    "final_model =make_pipeline(PolynomialFeatures(8),scaler,LinearRegression())\n",
    "final_model.fit(X_train.values.reshape(-1,1),y_train.values.reshape(-1,1))"
   ]
  },
  {
   "cell_type": "code",
   "execution_count": 199,
   "metadata": {},
   "outputs": [
    {
     "data": {
      "text/plain": [
       "Ttest_indResult(statistic=array([-0.04798013]), pvalue=array([0.96184333]))"
      ]
     },
     "execution_count": 199,
     "metadata": {},
     "output_type": "execute_result"
    }
   ],
   "source": [
    "result = ttest_ind(final_model.predict(X.values.reshape(-1,1)),y.values.reshape(-1,1))\n",
    "result"
   ]
  },
  {
   "cell_type": "markdown",
   "metadata": {},
   "source": [
    "With a p-value of 0.96>0.95, we conclude that traffic volume is positively affected by the presence of public space and population density surround the space."
   ]
  },
  {
   "cell_type": "code",
   "execution_count": 213,
   "metadata": {},
   "outputs": [
    {
     "data": {
      "text/plain": [
       "Text(0.5, 1.0, 'Hypothesis Testing on the Distribution')"
      ]
     },
     "execution_count": 213,
     "metadata": {},
     "output_type": "execute_result"
    },
    {
     "data": {
      "image/png": "[encoded data removed]",
      "text/plain": [
       "<Figure size 432x288 with 1 Axes>"
      ]
     },
     "metadata": {
      "image/png": {
       "height": 277,
       "width": 391
      },
      "needs_background": "light"
     },
     "output_type": "display_data"
    }
   ],
   "source": [
    "plt.hist(final_model.predict(X.values.reshape(-1,1)))\n",
    "plt.hist(y.values.reshape(-1,1),alpha=0.5)\n",
    "plt.legend(['Predicted Distribution','True Distribution'])\n",
    "plt.xlabel('Traffic Volume')\n",
    "plt.ylabel('Density')\n",
    "plt.title('Hypothesis Testing on the Distribution')"
   ]
  },
  {
   "cell_type": "markdown",
   "metadata": {},
   "source": [
    "# Ethics & Privacy"
   ]
  },
  {
   "cell_type": "markdown",
   "metadata": {},
   "source": [
    "&emsp;Data presented in this project does not inflict with any private or personal information, and most data can be found publicly from Uber or other institutions. There might be concerns that documents related to city planning cannot be made public without governmental permissions, but given that the data this project plans to use is purely for the observational purpose, and one can gather the same information(whether a parking area is on-street or not) merely by its eyes, the possibility of such concerns came to be an obstacle would be small.<br/>\n",
    "\n",
    "&emsp;The carrier of the project is well alarmed that possible conclusions made by this research might influence the function of some public service area such as schools and hospitals, which, if shall be deprived of some parking spaces under the advice of the project's conclusion, might result in significant damage on the society. The project carrier is also alarmed that regulating city planning by parking and traffics is innately biased to people without vehicles, which may be conflicted with principles of social justice. That been said, the result of this project is purely suggestional, and its purpose is to provide insights on the relationship between parking and traffics, which can be used as one of many dimensions when planning the city in the future."
   ]
  },
  {
   "cell_type": "markdown",
   "metadata": {},
   "source": [
    "# Conclusion & Discussion"
   ]
  },
  {
   "cell_type": "markdown",
   "metadata": {},
   "source": [
    "With a p-value of 0.96>0.95, we conclude that traffic volume is positively related to the presence of public space and population density surround the space. The project confirm Manville and Michael's claim on construction of public spaces, whether by nature(such as beach or coastline) or by planning(parks), do leads to an increse in the traffic volume in that area, and potentially slower the traffic speed."
   ]
  }
 ],
 "metadata": {
  "kernelspec": {
   "display_name": "Python 3",
   "language": "python",
   "name": "python3"
  },
  "language_info": {
   "codemirror_mode": {
    "name": "ipython",
    "version": 3
   },
   "file_extension": ".py",
   "mimetype": "text/x-python",
   "name": "python",
   "nbconvert_exporter": "python",
   "pygments_lexer": "ipython3",
   "version": "3.7.2"
  }
 },
 "nbformat": 4,
 "nbformat_minor": 2
}
